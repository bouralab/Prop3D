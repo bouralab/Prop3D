{
 "cells": [
  {
   "cell_type": "code",
   "execution_count": null,
   "metadata": {},
   "outputs": [],
   "source": [
    "#!git clone https://github.com/dauparas/ProteinMPNN.git"
   ]
  },
  {
   "cell_type": "code",
   "execution_count": null,
   "metadata": {},
   "outputs": [],
   "source": [
    "import torch\n",
    "from torch import nn\n",
    "from Prop3D.ml.datasets.DistributedProteinMPNNDataset import DistributedProteinMPNNDataset\n",
    "\n",
    "import sys\n",
    "sys.path.append(\"ProteinMPNN/training\")\n",
    "from model_utils import ProteinMPNN, featurize, get_std_opt\n",
    "\n",
    "device = \"cuda\" if torch.cuda.is_available() else \"cpu\""
   ]
  },
  {
   "attachments": {},
   "cell_type": "markdown",
   "metadata": {},
   "source": [
    "### Defined MPNN model\n",
    "Instead of predicting 21 characters, only predict 3: is_electronegative, is_electropostive, is_neutral"
   ]
  },
  {
   "attachments": {},
   "cell_type": "markdown",
   "metadata": {},
   "source": [
    "### Define parameters"
   ]
  },
  {
   "cell_type": "code",
   "execution_count": null,
   "metadata": {},
   "outputs": [],
   "source": [
    "hsds_endpoint = \"http://uvarc.io\"\n",
    "cath_superfamily = \"2/60/40/10\" #Use / instead of .\n",
    "\n",
    "#Could be charge, hydrophobicity, accessibility, 3 types of secondary structure, etc\n",
    "predict_features = [\"electrostatic_potential\"] "
   ]
  },
  {
   "cell_type": "code",
   "execution_count": null,
   "metadata": {},
   "outputs": [],
   "source": [
    "dataset_train = DistributedProteinMPNNDataset(hsds_endpoint, cath_superfamily, cluster_level=\"S100\")\n",
    "training_loader = torch.utils.data.DataLoader(dataset_train, batch_size=128, shuffle=True, num_workers=10))\n",
    "dataset_val = DistributedProteinMPNNDataset(hsds_endpoint, cath_superfamily, cluster_level=\"S100\", validation=True)\n",
    "val_loader = torch.utils.data.DataLoader(dataset_val, batch_size=128, shuffle=False, num_workers=10))"
   ]
  },
  {
   "cell_type": "code",
   "execution_count": null,
   "metadata": {},
   "outputs": [],
   "source": [
    "charge_to_idx = {(1,0,0):0, (0,1,0):1, (0,0,1):2}\n",
    "def process_batch(batch):\n",
    "    \"\"\"Convert featuress into a new type of sequence with L=3\n",
    "    \"\"\"\n",
    "    X, _, mask, lengths, chain_M, residue_idx, mask_self, chain_encoding_all = featurize(batch, device)\n",
    "    S = [[charge_to_idx[(value==0,value<0,value>0)] for value in prot[\"feats\"]] for prot in batch]\n",
    "    S = torch.from_numpy(S, device=device)\n",
    "    return X, S, mask, lengths, chain_M, residue_idx, mask_self, chain_encoding_all"
   ]
  },
  {
   "attachments": {},
   "cell_type": "markdown",
   "metadata": {},
   "source": [
    "model = ProteinMPNN(num_letters=3, vocab=3)\n",
    "model = model.to(device)\n",
    "optimizer = get_std_opt(model.parameters(), 128, 0)"
   ]
  },
  {
   "cell_type": "code",
   "execution_count": null,
   "metadata": {},
   "outputs": [],
   "source": [
    "for epoch in range(30):\n",
    "    for loader, is_train in [(training_loader, True), (val_loader, False)]:\n",
    "        running_loss = 0\n",
    "        for i, data in enumerate(loader):\n",
    "            X, S, mask, lengths, chain_M, residue_idx, mask_self, chain_encoding_all = process_batch(data)\n",
    "\n",
    "            # Zero your gradients for every batch!\n",
    "            optimizer.zero_grad()\n",
    "\n",
    "            if is_train:\n",
    "                # Make predictions for this batch\n",
    "                mask_for_loss = mask*chain_M\n",
    "                \n",
    "                log_probs = model(X, S, mask, chain_M, residue_idx, chain_encoding_all)\n",
    "                _, loss_av_smoothed = loss_smoothed(S, log_probs, mask_for_loss)\n",
    "                loss_av_smoothed.backward()\n",
    "                \n",
    "                loss, loss_av, true_false = loss_nll(S, log_probs, mask_for_loss)\n",
    "\n",
    "                # Adjust learning weights\n",
    "                optimizer.step()\n",
    "\n",
    "                name = \"TRAIN\"\n",
    "\n",
    "            else:\n",
    "                # Make predictions for this batch\n",
    "                outputs = model(inputs, labels=labels)\n",
    "        \n",
    "                # Compute the loss and its gradients\n",
    "                loss = outputs.loss\n",
    "\n",
    "                name = \"VALIDATION\"\n",
    "\n",
    "            running_loss += loss\n",
    "            if i%1000==0:\n",
    "                last_loss = running_loss / 1000 # loss per batch\n",
    "                print('  {} batch {} loss: {}'.format(name, i + 1, last_loss))\n",
    "                running_loss = 0"
   ]
  }
 ],
 "metadata": {
  "language_info": {
   "name": "python"
  },
  "orig_nbformat": 4
 },
 "nbformat": 4,
 "nbformat_minor": 2
}
