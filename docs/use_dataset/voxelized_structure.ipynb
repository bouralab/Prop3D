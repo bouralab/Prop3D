{
 "cells": [
  {
   "attachments": {},
   "cell_type": "markdown",
   "metadata": {},
   "source": [
    "# PyTorch: Prop3D with 3D Structures (MinkowsiEngine)"
   ]
  },
  {
   "attachments": {},
   "cell_type": "markdown",
   "metadata": {},
   "source": [
    "### Install prereqs: pytorch and MinkowskiEngine"
   ]
  },
  {
   "attachments": {},
   "cell_type": "markdown",
   "metadata": {},
   "source": [
    "Uncomment if you need to install. For PyTorch GPU installation, follow the instructions on https://pytorch.org/get-started/locally/"
   ]
  },
  {
   "cell_type": "code",
   "execution_count": null,
   "metadata": {},
   "outputs": [],
   "source": [
    "import os, sys"
   ]
  },
  {
   "cell_type": "code",
   "execution_count": null,
   "metadata": {},
   "outputs": [],
   "source": [
    "#sudo apt install build-essential python3-dev libopenblas-dev"
   ]
  },
  {
   "cell_type": "code",
   "execution_count": null,
   "metadata": {},
   "outputs": [],
   "source": [
    "#!{sys.executable} -m pip install --user torch ninja"
   ]
  },
  {
   "cell_type": "code",
   "execution_count": null,
   "metadata": {},
   "outputs": [],
   "source": [
    "#old_cwd = os.getcwd()\n",
    "#!git clone https://github.com/NVIDIA/MinkowskiEngine.git\n",
    "#os.chdir(\"MinkowskiEngine\")\n",
    "#!{sys.executable} setup.py install --blas=openblas\n",
    "#os.chdir(old_cwd)"
   ]
  },
  {
   "attachments": {},
   "cell_type": "markdown",
   "metadata": {},
   "source": [
    "### Imports"
   ]
  },
  {
   "cell_type": "code",
   "execution_count": null,
   "metadata": {},
   "outputs": [],
   "source": [
    "from tqdm import tqdm\n",
    "\n",
    "import torch\n",
    "from torch.nn import functional as F\n",
    "\n",
    "import MinkowskiEngine as ME\n",
    "import MinkowskiEngine.MinkowskiFunctional as MF\n",
    "from Prop3D.ml.datasets.DistributedDomainStructureDataset import DistributedDomainStructureDataset\n",
    "\n",
    "torch.manual_seed(0)\n",
    "device = \"cuda\" if torch.cuda.is_available() else \"cpu\""
   ]
  },
  {
   "attachments": {},
   "cell_type": "markdown",
   "metadata": {},
   "source": [
    "### Define parameters"
   ]
  },
  {
   "cell_type": "code",
   "execution_count": null,
   "metadata": {},
   "outputs": [],
   "source": [
    "os.environ[\"HS_ENDPOINT\"] = \"http://prop3d-hsds.pods.uvarc.io\"\n",
    "os.environ[\"HS_USERNAME\"] = \"None\"\n",
    "os.environ[\"HS_PASSWORD\"] = \"None\"\n",
    "\n",
    "cath_file = \"/CATH/Prop3D-20.h5\"\n",
    "cath_superfamily = \"1/10/10/10\" #Use / instead of .\n",
    "\n",
    "use_features = ['H', 'HD', 'HS', 'C', 'A', 'N', 'NA', 'NS', 'OA', 'OS', 'F', 'MG', 'P', 'SA', 'S', 'CL', 'CA', 'MN', 'FE', 'ZN', 'BR', 'I', 'Unk_atom']\n",
    "predict_features = ['is_electronegative']"
   ]
  },
  {
   "attachments": {},
   "cell_type": "markdown",
   "metadata": {},
   "source": [
    "### Define UNET model"
   ]
  },
  {
   "cell_type": "code",
   "execution_count": null,
   "metadata": {},
   "outputs": [],
   "source": [
    "class UNet(ME.MinkowskiNetwork):\n",
    "\n",
    "    def __init__(self, in_nchannel, out_nchannel, D):\n",
    "        super(UNet, self).__init__(D)\n",
    "        self.block1 = torch.nn.Sequential(\n",
    "            ME.MinkowskiConvolution(\n",
    "                in_channels=in_nchannel,\n",
    "                out_channels=8,\n",
    "                kernel_size=3,\n",
    "                stride=1,\n",
    "                dimension=D),\n",
    "            ME.MinkowskiBatchNorm(8))\n",
    "\n",
    "        self.block2 = torch.nn.Sequential(\n",
    "            ME.MinkowskiConvolution(\n",
    "                in_channels=8,\n",
    "                out_channels=16,\n",
    "                kernel_size=3,\n",
    "                stride=2,\n",
    "                dimension=D),\n",
    "            ME.MinkowskiBatchNorm(16),\n",
    "        )\n",
    "\n",
    "        self.block3 = torch.nn.Sequential(\n",
    "            ME.MinkowskiConvolution(\n",
    "                in_channels=16,\n",
    "                out_channels=32,\n",
    "                kernel_size=3,\n",
    "                stride=2,\n",
    "                dimension=D),\n",
    "            ME.MinkowskiBatchNorm(32))\n",
    "\n",
    "        self.block3_tr = torch.nn.Sequential(\n",
    "            ME.MinkowskiConvolutionTranspose(\n",
    "                in_channels=32,\n",
    "                out_channels=16,\n",
    "                kernel_size=3,\n",
    "                stride=2,\n",
    "                dimension=D),\n",
    "            ME.MinkowskiBatchNorm(16))\n",
    "\n",
    "        self.block2_tr = torch.nn.Sequential(\n",
    "            ME.MinkowskiConvolutionTranspose(\n",
    "                in_channels=32,\n",
    "                out_channels=16,\n",
    "                kernel_size=3,\n",
    "                stride=2,\n",
    "                dimension=D),\n",
    "            ME.MinkowskiBatchNorm(16))\n",
    "\n",
    "        self.conv1_tr = ME.MinkowskiConvolution(\n",
    "            in_channels=24,\n",
    "            out_channels=out_nchannel,\n",
    "            kernel_size=1,\n",
    "            stride=1,\n",
    "            dimension=D)\n",
    "\n",
    "    def forward(self, x):\n",
    "        out_s1 = self.block1(x)\n",
    "        out = MF.relu(out_s1)\n",
    "\n",
    "        out_s2 = self.block2(out)\n",
    "        out = MF.relu(out_s2)\n",
    "\n",
    "        out_s4 = self.block3(out)\n",
    "        out = MF.relu(out_s4)\n",
    "\n",
    "        out = MF.relu(self.block3_tr(out))\n",
    "        out = ME.cat(out, out_s2)\n",
    "\n",
    "        out = MF.relu(self.block2_tr(out))\n",
    "        out = ME.cat(out, out_s1)\n",
    "\n",
    "        return self.conv1_tr(out)"
   ]
  },
  {
   "attachments": {},
   "cell_type": "markdown",
   "metadata": {},
   "source": [
    "### Set up Prop3D datasets and dataloaders"
   ]
  },
  {
   "cell_type": "code",
   "execution_count": null,
   "metadata": {},
   "outputs": [],
   "source": [
    "\n",
    "dataset_train = DistributedDomainStructureDataset(\n",
    "    cath_file, \n",
    "    cath_superfamily, \n",
    "    use_features=use_features, \n",
    "    predict_features=predict_features, \n",
    "    cluster_level=\"S100\")\n",
    "training_loader = torch.utils.data.DataLoader(\n",
    "    dataset_train, \n",
    "    batch_size=128, \n",
    "    shuffle=True, \n",
    "    collate_fn=ME.utils.batch_sparse_collate)\n",
    "dataset_val = DistributedDomainStructureDataset(\n",
    "    cath_file, \n",
    "    cath_superfamily, \n",
    "    use_features=use_features, \n",
    "    predict_features=predict_features, \n",
    "    cluster_level=\"S100\", \n",
    "    validation=True)\n",
    "val_loader = torch.utils.data.DataLoader(\n",
    "    dataset_val, \n",
    "    batch_size=128, \n",
    "    shuffle=False, \n",
    "    collate_fn=ME.utils.batch_sparse_collate)"
   ]
  },
  {
   "attachments": {},
   "cell_type": "markdown",
   "metadata": {},
   "source": [
    "### Start training"
   ]
  },
  {
   "cell_type": "code",
   "execution_count": null,
   "metadata": {},
   "outputs": [],
   "source": [
    "model = UNet(len(use_features), len(predict_features), 3)\n",
    "model.to(device)"
   ]
  },
  {
   "cell_type": "code",
   "execution_count": null,
   "metadata": {},
   "outputs": [],
   "source": [
    "optimizer = torch.optim.SGD(\n",
    "        model.parameters(),\n",
    "        lr=1e-1,\n",
    "        momentum=0.9,\n",
    "        weight_decay=1e-4,\n",
    "    )\n",
    "scheduler = torch.optim.lr_scheduler.CosineAnnealingLR(\n",
    "    optimizer,\n",
    "    T_max=100000,\n",
    ")"
   ]
  },
  {
   "cell_type": "code",
   "execution_count": null,
   "metadata": {},
   "outputs": [],
   "source": [
    "def criterion(pred, labels, smoothing=True):\n",
    "    \"\"\"Calculate cross entropy loss, apply label smoothing if needed.\"\"\"\n",
    "\n",
    "    labels = labels.contiguous().view(-1)\n",
    "    if smoothing:\n",
    "        eps = 0.2\n",
    "        n_class = pred.size(1)\n",
    "\n",
    "        one_hot = torch.zeros_like(pred).scatter(1, labels.view(-1, 1), 1)\n",
    "        one_hot = one_hot * (1 - eps) + (1 - one_hot) * eps / (n_class - 1)\n",
    "        log_prb = F.log_softmax(pred, dim=1)\n",
    "\n",
    "        loss = -(one_hot * log_prb).sum(dim=1).mean()\n",
    "    else:\n",
    "        loss = F.cross_entropy(pred, labels, reduction=\"mean\")\n",
    "\n",
    "    return loss"
   ]
  },
  {
   "cell_type": "code",
   "execution_count": null,
   "metadata": {},
   "outputs": [],
   "source": [
    "for epoch in range(30):\n",
    "    for loader, is_train in [(training_loader, True), (val_loader, False)]:\n",
    "        if is_train:\n",
    "            model.train()\n",
    "        else:\n",
    "            model.eval()\n",
    "            \n",
    "        pbar = tqdm(loader)\n",
    "        for batch in pbar:\n",
    "            # Every data instance is an input + label pair\n",
    "            coords, feats, truth = batch\n",
    "            \n",
    "            inputs = ME.SparseTensor(\n",
    "                feats.float(), \n",
    "                coords.int(), \n",
    "                device=device)\n",
    "            \n",
    "            truth = truth.long().to(device)\n",
    "            \n",
    "            if is_train:\n",
    "                # Zero your gradients for every batch!\n",
    "                optimizer.zero_grad()\n",
    "\n",
    "            # Make predictions for this batch\n",
    "            outputs = model(inputs)\n",
    "    \n",
    "            # Compute the loss and its gradients\n",
    "            loss = F.cross_entropy(outputs.F, truth.squeeze())\n",
    "\n",
    "            if is_train:\n",
    "                \n",
    "                loss.backward()\n",
    "\n",
    "                # Adjust learning weights\n",
    "                optimizer.step()\n",
    "                scheduler.step()\n",
    "                \n",
    "\n",
    "                name = \"TRAIN\"\n",
    "\n",
    "            else:\n",
    "                name = \"VALIDATION\"\n",
    "\n",
    "            torch.cuda.empty_cache()\n",
    "\n",
    "            pbar.set_description(f\"Epoch {epoch} {name} Loss {loss}\")\n",
    "\n"
   ]
  }
 ],
 "metadata": {
  "language_info": {
   "name": "python"
  },
  "nbsphinx": {
   "execute": "never"
  },
  "orig_nbformat": 4
 },
 "nbformat": 4,
 "nbformat_minor": 2
}
