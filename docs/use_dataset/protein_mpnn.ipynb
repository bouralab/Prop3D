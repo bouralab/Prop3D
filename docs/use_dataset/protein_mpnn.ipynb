{
 "cells": [
  {
   "attachments": {},
   "cell_type": "markdown",
   "metadata": {},
   "source": [
    "# PyTorch: Prop3D with Graphs (ProteinMPNN)\n",
    "\n",
    "Here we should how to use Prop3D in a PyTorch model to predict the electrostatic protential using ProteinMPNN."
   ]
  },
  {
   "attachments": {},
   "cell_type": "markdown",
   "metadata": {},
   "source": [
    "### Install preqrequites if needed\n",
    "Uncomment to install"
   ]
  },
  {
   "cell_type": "code",
   "execution_count": null,
   "metadata": {},
   "outputs": [],
   "source": [
    "#!git clone https://github.com/dauparas/ProteinMPNN.git"
   ]
  },
  {
   "attachments": {},
   "cell_type": "markdown",
   "metadata": {},
   "source": [
    "### Define imports"
   ]
  },
  {
   "cell_type": "code",
   "execution_count": null,
   "metadata": {},
   "outputs": [],
   "source": [
    "\n",
    "import os\n",
    "import sys\n",
    "sys.path.append(\"ProteinMPNN/training\")\n",
    "\n",
    "import torch\n",
    "from torch import nn\n",
    "from Prop3D.ml.datasets.DistributedProteinMPNNDataset import DistributedProteinMPNNDataset\n",
    "\n",
    "from model_utils import ProteinMPNN, featurize, get_std_opt, loss_nll\n",
    "\n",
    "torch.manual_seed(0)\n",
    "device = \"cuda\" if torch.cuda.is_available() else \"cpu\""
   ]
  },
  {
   "attachments": {},
   "cell_type": "markdown",
   "metadata": {},
   "source": [
    "### Defined MPNN model\n",
    "Instead of predicting 21 characters, only predict 3: is_electronegative, is_electropostive, is_neutral"
   ]
  },
  {
   "attachments": {},
   "cell_type": "markdown",
   "metadata": {},
   "source": [
    "### Define parameters"
   ]
  },
  {
   "cell_type": "code",
   "execution_count": null,
   "metadata": {},
   "outputs": [],
   "source": [
    "os.environ[\"HS_ENDPOINT\"] = \"http://prop3d-hsds.pods.uvarc.io\"\n",
    "os.environ[\"HS_USERNAME\"] = \"None\"\n",
    "os.environ[\"HS_PASSWORD\"] = \"None\"\n",
    "\n",
    "cath_file = \"/CATH/Prop3D-20.h5\"\n",
    "cath_superfamily = \"2/60/40/10\" #Use / instead of .\n",
    "\n",
    "#Could be charge, hydrophobicity, accessibility, 3 types of secondary structure, etc\n",
    "predict_features = [\"electrostatic_potential\"] "
   ]
  },
  {
   "cell_type": "code",
   "execution_count": null,
   "metadata": {},
   "outputs": [],
   "source": [
    "def collate(x):\n",
    "    return x"
   ]
  },
  {
   "cell_type": "code",
   "execution_count": null,
   "metadata": {},
   "outputs": [],
   "source": [
    "dataset_train = DistributedProteinMPNNDataset(\n",
    "    cath_file, \n",
    "    cath_superfamily, \n",
    "    predict_features=predict_features, \n",
    "    cluster_level=\"S100\")\n",
    "training_loader = torch.utils.data.DataLoader(\n",
    "    dataset_train, \n",
    "    batch_size=16, \n",
    "    shuffle=True, \n",
    "    num_workers=64, \n",
    "    collate_fn=collate)\n",
    "dataset_val = DistributedProteinMPNNDataset(\n",
    "    cath_file, \n",
    "    cath_superfamily, \n",
    "    predict_features=predict_features,  \n",
    "    cluster_level=\"S100\", \n",
    "    validation=True)\n",
    "val_loader = torch.utils.data.DataLoader(\n",
    "    dataset_val,\n",
    "    batch_size=16, \n",
    "    shuffle=False, \n",
    "    num_workers=64, \n",
    "    collate_fn=collate)"
   ]
  },
  {
   "cell_type": "code",
   "execution_count": null,
   "metadata": {},
   "outputs": [],
   "source": [
    "charge_to_idx = {(1,0,0):0, (0,1,0):1, (0,0,1):2}\n",
    "def process_batch(batch):\n",
    "    \"\"\"Convert featuress into a new type of sequence with L=3\n",
    "    \"\"\"\n",
    "    X, S, mask, lengths, chain_M, residue_idx, mask_self, chain_encoding_all = featurize(batch, device)\n",
    "    for i, prot in enumerate(batch):\n",
    "        for j, value in enumerate(prot[\"prop3d_features\"]):\n",
    "            try:\n",
    "                S[i,j] = charge_to_idx[(value==0,value<0,value>0)]\n",
    "            except KeyError:\n",
    "                S[i,j] = 0.\n",
    "    return X, S, mask, lengths, chain_M, residue_idx, mask_self, chain_encoding_all"
   ]
  },
  {
   "cell_type": "code",
   "execution_count": null,
   "metadata": {},
   "outputs": [],
   "source": [
    "def loss_smoothed(S, log_probs, mask, weight=0.1):\n",
    "    \"\"\" Negative log probabilities \"\"\"\n",
    "    S_onehot = torch.nn.functional.one_hot(S, 3).float()\n",
    "\n",
    "    # Label smoothing\n",
    "    S_onehot = S_onehot + weight / float(S_onehot.size(-1))\n",
    "    S_onehot = S_onehot / S_onehot.sum(-1, keepdim=True)\n",
    "\n",
    "    loss = -(S_onehot * log_probs).sum(-1)\n",
    "    loss_av = torch.sum(loss * mask) / 2000.0 #fixed \n",
    "    return loss, loss_av"
   ]
  },
  {
   "cell_type": "code",
   "execution_count": null,
   "metadata": {},
   "outputs": [],
   "source": [
    "model = ProteinMPNN(num_letters=3, vocab=3)\n",
    "model = model.to(device)\n",
    "optimizer = get_std_opt(model.parameters(), 128, 0)"
   ]
  },
  {
   "cell_type": "code",
   "execution_count": null,
   "metadata": {},
   "outputs": [],
   "source": [
    "for epoch in range(200):\n",
    "    for loader, is_train in [(training_loader, True), (val_loader, False)]:\n",
    "        if is_train:\n",
    "            model.train()\n",
    "        else:\n",
    "            model.eval()\n",
    "            \n",
    "        pbar = tqdm(loader)\n",
    "        for data in pbar:\n",
    "            X, S, mask, lengths, chain_M, residue_idx, mask_self, chain_encoding_all = process_batch(data)\n",
    "\n",
    "            if is_train:\n",
    "                # Zero your gradients for every batch!\n",
    "                optimizer.zero_grad()\n",
    "                \n",
    "            # Make predictions for this batch\n",
    "            mask_for_loss = mask*chain_M\n",
    "\n",
    "            log_probs = model(X, S, mask, chain_M, residue_idx, chain_encoding_all)\n",
    "            _, loss_av_smoothed = loss_smoothed(S, log_probs, mask_for_loss)\n",
    "\n",
    "            if is_train:\n",
    "                loss_av_smoothed.backward()\n",
    "\n",
    "                # Adjust learning weights\n",
    "                optimizer.step()\n",
    "\n",
    "                name = \"TRAIN\"\n",
    "\n",
    "            else:\n",
    "                name = \"VALIDATION\"\n",
    "            \n",
    "            loss, loss_av, true_false = loss_nll(S, log_probs, mask_for_loss)\n",
    "\n",
    "            pbar.set_description(f\"Epoch {epoch} {name} Loss {loss.mean()}\")"
   ]
  }
 ],
 "metadata": {
  "language_info": {
   "name": "python"
  },
  "nbsphinx": {
   "execute": "never"
  },
  "orig_nbformat": 4
 },
 "nbformat": 4,
 "nbformat_minor": 2
}
